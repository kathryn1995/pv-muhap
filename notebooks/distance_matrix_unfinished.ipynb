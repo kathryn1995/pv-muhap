{
 "cells": [
  {
   "cell_type": "markdown",
   "id": "9bc431c5-8d44-4c91-9788-4dda5cc472e4",
   "metadata": {},
   "source": [
    "# Calculate distance matrix "
   ]
  },
  {
   "cell_type": "code",
   "execution_count": 3,
   "id": "59a7ae15-7f58-4864-9499-31e0249f5088",
   "metadata": {},
   "outputs": [],
   "source": [
    "# Write genotypes to file for the markers selected \n",
    "# Trying to figure out how mhap_identifiers_3_10_SNP.txt was generated??? "
   ]
  },
  {
   "cell_type": "code",
   "execution_count": 2,
   "id": "acf101db-78dc-48ba-8a45-b17066b3bd36",
   "metadata": {},
   "outputs": [],
   "source": [
    "# Use code from 3_marker selection "
   ]
  },
  {
   "cell_type": "code",
   "execution_count": null,
   "id": "3a7b71d5-91d4-4d63-985a-548ed83b9645",
   "metadata": {},
   "outputs": [],
   "source": [
    "# Input is index list of the window options given. Our windows will be different. \n",
    "# Could backwards evaluate to just get windows that cover the SNP list below...\n",
    "20200511_mhap_GTs_global_mhap_identifiers_3_10_SNP"
   ]
  }
 ],
 "metadata": {
  "kernelspec": {
   "display_name": "hackathon_env",
   "language": "python",
   "name": "hackathon_env"
  },
  "language_info": {
   "codemirror_mode": {
    "name": "ipython",
    "version": 3
   },
   "file_extension": ".py",
   "mimetype": "text/x-python",
   "name": "python",
   "nbconvert_exporter": "python",
   "pygments_lexer": "ipython3",
   "version": "3.7.4"
  }
 },
 "nbformat": 4,
 "nbformat_minor": 5
}
